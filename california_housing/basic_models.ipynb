{
 "cells": [
  {
   "cell_type": "markdown",
   "id": "617781a3",
   "metadata": {},
   "source": [
    "# Basic Models"
   ]
  },
  {
   "cell_type": "code",
   "execution_count": 63,
   "id": "271cca22",
   "metadata": {},
   "outputs": [],
   "source": [
    "from common import get_dataset\n",
    "\n",
    "X_train, y_train, X_test, y_test = get_dataset()"
   ]
  },
  {
   "cell_type": "markdown",
   "id": "b06c928e",
   "metadata": {},
   "source": [
    "## Median Income as the Only Predictor\n",
    "\n",
    "### Without Scaling"
   ]
  },
  {
   "cell_type": "code",
   "execution_count": null,
   "id": "95227625",
   "metadata": {},
   "outputs": [
    {
     "data": {
      "text/plain": [
       "np.float64(82.30143383368546)"
      ]
     },
     "execution_count": 79,
     "metadata": {},
     "output_type": "execute_result"
    }
   ],
   "source": [
    "from sklearn.linear_model import LinearRegression\n",
    "from sklearn.metrics import root_mean_squared_error\n",
    "from sklearn.model_selection import cross_val_score\n",
    "\n",
    "model = LinearRegression()\n",
    "\n",
    "rmse = -cross_val_score(estimator=model, X=X_train[['median_income']], y=y_train.values.ravel(), cv=5, scoring='neg_root_mean_squared_error') / 1000\n",
    "rmse.min()"
   ]
  },
  {
   "cell_type": "markdown",
   "id": "6861e330",
   "metadata": {},
   "source": [
    "### Scaled Median Income"
   ]
  },
  {
   "cell_type": "code",
   "execution_count": null,
   "id": "edc6178a",
   "metadata": {},
   "outputs": [
    {
     "data": {
      "text/plain": [
       "np.float64(82.30143383368546)"
      ]
     },
     "execution_count": 80,
     "metadata": {},
     "output_type": "execute_result"
    }
   ],
   "source": [
    "from sklearn.pipeline import Pipeline\n",
    "from sklearn.preprocessing import StandardScaler\n",
    "\n",
    "\n",
    "model = Pipeline([\n",
    "    ('scaler', StandardScaler()),\n",
    "    ('regressor', LinearRegression())\n",
    "])\n",
    "\n",
    "rmse = -cross_val_score(estimator=model, X=X_train[['median_income']], y=y_train.values.ravel(), cv=5, scoring='neg_root_mean_squared_error') / 1000\n",
    "rmse.min()"
   ]
  },
  {
   "cell_type": "markdown",
   "id": "0394d460",
   "metadata": {},
   "source": [
    "### Random Forest"
   ]
  },
  {
   "cell_type": "code",
   "execution_count": 83,
   "id": "7bf389c0",
   "metadata": {},
   "outputs": [
    {
     "data": {
      "text/plain": [
       "np.float64(94.59822948012433)"
      ]
     },
     "execution_count": 83,
     "metadata": {},
     "output_type": "execute_result"
    }
   ],
   "source": [
    "from sklearn.ensemble import RandomForestRegressor\n",
    "\n",
    "model = Pipeline([\n",
    "  # Note Random Forest Regressor does not need feature scaling\n",
    "    ('regressor', RandomForestRegressor(random_state=42))\n",
    "])\n",
    "\n",
    "# Note Random Forest Regressor requires y to be 1D array\n",
    "rmse = -cross_val_score(estimator=model, X=X_train[['median_income']], y=y_train.values.ravel(), cv=5, scoring='neg_root_mean_squared_error') / 1000\n",
    "rmse.min()"
   ]
  },
  {
   "cell_type": "markdown",
   "id": "adcb585a",
   "metadata": {},
   "source": [
    "### Linear Support Vector SVR"
   ]
  },
  {
   "cell_type": "code",
   "execution_count": null,
   "id": "86186052",
   "metadata": {},
   "outputs": [
    {
     "data": {
      "text/plain": [
       "np.float64(112.26795407347454)"
      ]
     },
     "execution_count": 84,
     "metadata": {},
     "output_type": "execute_result"
    }
   ],
   "source": [
    "from sklearn.svm import SVR\n",
    "\n",
    "\n",
    "model = Pipeline([\n",
    "    ('scaler', StandardScaler()),\n",
    "    ('regressor', SVR(kernel='linear'))\n",
    "])\n",
    "\n",
    "rmse = -cross_val_score(estimator=model, X=X_train[['median_income']], y=y_train.values.ravel(), cv=5, scoring='neg_root_mean_squared_error') / 1000\n",
    "rmse.min()"
   ]
  },
  {
   "cell_type": "markdown",
   "id": "8c8e81ca",
   "metadata": {},
   "source": [
    "### RBF SVR"
   ]
  },
  {
   "cell_type": "code",
   "execution_count": null,
   "id": "eca1f86a",
   "metadata": {},
   "outputs": [
    {
     "data": {
      "text/plain": [
       "np.float64(93.37584446131761)"
      ]
     },
     "execution_count": 87,
     "metadata": {},
     "output_type": "execute_result"
    }
   ],
   "source": [
    "model = Pipeline([\n",
    "    ('scaler', StandardScaler()),\n",
    "    ('regressor', SVR(kernel='rbf', C=100, gamma='scale', epsilon=0.1))\n",
    "])\n",
    "\n",
    "rmse = -cross_val_score(estimator=model, X=X_train[['median_income']], y=y_train.values.ravel(), cv=5, scoring='neg_root_mean_squared_error') / 1000\n",
    "rmse.min()"
   ]
  },
  {
   "cell_type": "markdown",
   "id": "63395764",
   "metadata": {},
   "source": [
    "### Stochastic Gradient Descent Regressor"
   ]
  },
  {
   "cell_type": "code",
   "execution_count": null,
   "id": "af039c1a",
   "metadata": {},
   "outputs": [
    {
     "data": {
      "text/plain": [
       "np.float64(82.32131936522056)"
      ]
     },
     "execution_count": 88,
     "metadata": {},
     "output_type": "execute_result"
    }
   ],
   "source": [
    "from sklearn.linear_model import SGDRegressor\n",
    "\n",
    "model = Pipeline([\n",
    "    ('scaler', StandardScaler()),\n",
    "    ('regressor', SGDRegressor(max_iter=1000, tol=1e-3, random_state=42))\n",
    "])\n",
    "\n",
    "rmse = -cross_val_score(estimator=model, X=X_train[['median_income']], y=y_train.values.ravel(), cv=5, scoring='neg_root_mean_squared_error') / 1000\n",
    "rmse.min()"
   ]
  }
 ],
 "metadata": {
  "kernelspec": {
   "display_name": "base",
   "language": "python",
   "name": "python3"
  },
  "language_info": {
   "codemirror_mode": {
    "name": "ipython",
    "version": 3
   },
   "file_extension": ".py",
   "mimetype": "text/x-python",
   "name": "python",
   "nbconvert_exporter": "python",
   "pygments_lexer": "ipython3",
   "version": "3.13.5"
  }
 },
 "nbformat": 4,
 "nbformat_minor": 5
}
