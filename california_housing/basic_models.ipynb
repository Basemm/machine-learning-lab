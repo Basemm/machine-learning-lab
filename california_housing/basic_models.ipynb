{
 "cells": [
  {
   "cell_type": "markdown",
   "id": "617781a3",
   "metadata": {},
   "source": [
    "# Basic Models"
   ]
  },
  {
   "cell_type": "code",
   "execution_count": 63,
   "id": "271cca22",
   "metadata": {},
   "outputs": [],
   "source": [
    "from common import get_dataset\n",
    "\n",
    "X_train, y_train, X_test, y_test = get_dataset()"
   ]
  },
  {
   "cell_type": "markdown",
   "id": "b06c928e",
   "metadata": {},
   "source": [
    "## Median Income as the Only Predictor\n",
    "\n",
    "### Without Scaling"
   ]
  },
  {
   "cell_type": "code",
   "execution_count": 75,
   "id": "95227625",
   "metadata": {},
   "outputs": [
    {
     "data": {
      "text/plain": [
       "84.11545973248083"
      ]
     },
     "execution_count": 75,
     "metadata": {},
     "output_type": "execute_result"
    }
   ],
   "source": [
    "from sklearn.linear_model import LinearRegression\n",
    "from sklearn.metrics import root_mean_squared_error\n",
    "from sklearn.model_selection import cross_val_score\n",
    "\n",
    "\n",
    "model = LinearRegression()\n",
    "model.fit(X_train[['median_income']], y_train)\n",
    "\n",
    "y_pred = model.predict(X_test[['median_income']])\n",
    "\n",
    "rmse = root_mean_squared_error(y_test, y_pred) / 1000\n",
    "rmse"
   ]
  },
  {
   "cell_type": "markdown",
   "id": "6861e330",
   "metadata": {},
   "source": [
    "### Scaled Median Income"
   ]
  },
  {
   "cell_type": "code",
   "execution_count": 65,
   "id": "edc6178a",
   "metadata": {},
   "outputs": [
    {
     "data": {
      "text/plain": [
       "84.11545973248084"
      ]
     },
     "execution_count": 65,
     "metadata": {},
     "output_type": "execute_result"
    }
   ],
   "source": [
    "from sklearn.pipeline import Pipeline\n",
    "from sklearn.preprocessing import StandardScaler\n",
    "\n",
    "\n",
    "model = preprocessing_pipeline = Pipeline([\n",
    "    ('scaler', StandardScaler()),\n",
    "    ('regressor', LinearRegression())\n",
    "])\n",
    "\n",
    "model.fit(X_train[['median_income']], y_train)\n",
    "y_pred = model.predict(X_test[['median_income']])\n",
    "\n",
    "rmse = root_mean_squared_error(y_test, y_pred) / 1000\n",
    "rmse"
   ]
  },
  {
   "cell_type": "markdown",
   "id": "0394d460",
   "metadata": {},
   "source": [
    "### Random Forest"
   ]
  },
  {
   "cell_type": "code",
   "execution_count": 66,
   "id": "7bf389c0",
   "metadata": {},
   "outputs": [
    {
     "data": {
      "text/plain": [
       "96.63043213785954"
      ]
     },
     "execution_count": 66,
     "metadata": {},
     "output_type": "execute_result"
    }
   ],
   "source": [
    "from sklearn.ensemble import RandomForestRegressor\n",
    "\n",
    "model = preprocessing_pipeline = Pipeline([\n",
    "  # Note Random Forest Regressor does not need feature scaling\n",
    "    ('regressor', RandomForestRegressor(random_state=42))\n",
    "])\n",
    "\n",
    "md = X_train[['median_income']].copy()\n",
    "\n",
    "# Note Random Forest Regressor requires y to be 1D array\n",
    "model.fit(X_train[['median_income']], y_train.values.ravel())\n",
    "y_pred = model.predict(X_test[['median_income']])\n",
    "\n",
    "rmse = root_mean_squared_error(y_test, y_pred) / 1000\n",
    "rmse"
   ]
  },
  {
   "cell_type": "markdown",
   "id": "adcb585a",
   "metadata": {},
   "source": [
    "### Linear Support Vector SVR"
   ]
  },
  {
   "cell_type": "code",
   "execution_count": 67,
   "id": "86186052",
   "metadata": {},
   "outputs": [
    {
     "data": {
      "text/plain": [
       "113.73689353377401"
      ]
     },
     "execution_count": 67,
     "metadata": {},
     "output_type": "execute_result"
    }
   ],
   "source": [
    "from sklearn.svm import SVR\n",
    "\n",
    "\n",
    "model = preprocessing_pipeline = Pipeline([\n",
    "    ('scaler', StandardScaler()),\n",
    "    ('regressor', SVR(kernel='linear'))\n",
    "])\n",
    "\n",
    "model.fit(X_train[['median_income']], y_train.values.ravel())\n",
    "y_pred = model.predict(X_test[['median_income']])\n",
    "\n",
    "rmse = root_mean_squared_error(y_test, y_pred) / 1000\n",
    "rmse"
   ]
  },
  {
   "cell_type": "markdown",
   "id": "8c8e81ca",
   "metadata": {},
   "source": [
    "### RBF SVR"
   ]
  },
  {
   "cell_type": "code",
   "execution_count": 68,
   "id": "eca1f86a",
   "metadata": {},
   "outputs": [
    {
     "data": {
      "text/plain": [
       "94.45755600633943"
      ]
     },
     "execution_count": 68,
     "metadata": {},
     "output_type": "execute_result"
    }
   ],
   "source": [
    "model = preprocessing_pipeline = Pipeline([\n",
    "    ('scaler', StandardScaler()),\n",
    "    ('regressor', SVR(kernel='rbf', C=100, gamma='scale', epsilon=0.1))\n",
    "])\n",
    "\n",
    "model.fit(X_train[['median_income']], y_train.values.ravel())\n",
    "y_pred = model.predict(X_test[['median_income']])\n",
    "\n",
    "rmse = root_mean_squared_error(y_test, y_pred) / 1000\n",
    "rmse"
   ]
  },
  {
   "cell_type": "markdown",
   "id": "63395764",
   "metadata": {},
   "source": [
    "### Stochastic Gradient Descent Regressor"
   ]
  },
  {
   "cell_type": "code",
   "execution_count": null,
   "id": "af039c1a",
   "metadata": {},
   "outputs": [
    {
     "data": {
      "text/plain": [
       "84.20746863859328"
      ]
     },
     "execution_count": 69,
     "metadata": {},
     "output_type": "execute_result"
    }
   ],
   "source": [
    "from sklearn.linear_model import SGDRegressor\n",
    "\n",
    "model = preprocessing_pipeline = Pipeline([\n",
    "    ('scaler', StandardScaler()),\n",
    "    ('regressor', SGDRegressor(max_iter=1000, tol=1e-3, random_state=42))\n",
    "])\n",
    "\n",
    "model.fit(X_train[['median_income']], y_train.values.ravel())\n",
    "y_pred = model.predict(X_test[['median_income']])\n",
    "\n",
    "rmse = root_mean_squared_error(y_test, y_pred) / 1000\n",
    "rmse"
   ]
  },
  {
   "cell_type": "code",
   "execution_count": null,
   "id": "29a33916",
   "metadata": {},
   "outputs": [],
   "source": []
  }
 ],
 "metadata": {
  "kernelspec": {
   "display_name": "base",
   "language": "python",
   "name": "python3"
  },
  "language_info": {
   "codemirror_mode": {
    "name": "ipython",
    "version": 3
   },
   "file_extension": ".py",
   "mimetype": "text/x-python",
   "name": "python",
   "nbconvert_exporter": "python",
   "pygments_lexer": "ipython3",
   "version": "3.13.5"
  }
 },
 "nbformat": 4,
 "nbformat_minor": 5
}
